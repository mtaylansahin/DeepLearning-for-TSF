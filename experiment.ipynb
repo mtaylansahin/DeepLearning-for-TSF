{
 "cells": [
  {
   "cell_type": "code",
   "execution_count": 1,
   "id": "2fb5faad",
   "metadata": {},
   "outputs": [],
   "source": [
    "def grid_search():\n",
    "    pass"
   ]
  },
  {
   "cell_type": "code",
   "execution_count": 2,
   "id": "29f4d87e",
   "metadata": {},
   "outputs": [],
   "source": [
    "def run_experiment():\n",
    "    pass"
   ]
  },
  {
   "cell_type": "code",
   "execution_count": null,
   "id": "21e79367",
   "metadata": {},
   "outputs": [],
   "source": [
    "def evaluate():\n",
    "    pass"
   ]
  }
 ],
 "metadata": {
  "kernelspec": {
   "display_name": "Python 3",
   "language": "python",
   "name": "python3"
  },
  "language_info": {
   "codemirror_mode": {
    "name": "ipython",
    "version": 3
   },
   "file_extension": ".py",
   "mimetype": "text/x-python",
   "name": "python",
   "nbconvert_exporter": "python",
   "pygments_lexer": "ipython3",
   "version": "3.8.11"
  }
 },
 "nbformat": 4,
 "nbformat_minor": 5
}
