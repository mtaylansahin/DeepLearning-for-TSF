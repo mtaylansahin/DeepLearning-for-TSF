{
 "cells": [
  {
   "cell_type": "code",
   "execution_count": 1,
   "id": "1e961995",
   "metadata": {},
   "outputs": [],
   "source": [
    "def sliding_window_preprocessing(sequence, history_window, horizon):\n",
    "    pass"
   ]
  },
  {
   "cell_type": "code",
   "execution_count": 2,
   "id": "dc17ef7f",
   "metadata": {},
   "outputs": [],
   "source": [
    "def feature_scaling(sequence, method):\n",
    "    pass\n",
    "\n",
    "def reverse_scaling(sequence):\n",
    "    pass"
   ]
  },
  {
   "cell_type": "code",
   "execution_count": null,
   "id": "71088aad",
   "metadata": {},
   "outputs": [],
   "source": [
    "def sliding_window_with_breakdown(sequence, history_window, horizon, breakdown_indices):\n",
    "    pass"
   ]
  }
 ],
 "metadata": {
  "kernelspec": {
   "display_name": "Python 3",
   "language": "python",
   "name": "python3"
  },
  "language_info": {
   "codemirror_mode": {
    "name": "ipython",
    "version": 3
   },
   "file_extension": ".py",
   "mimetype": "text/x-python",
   "name": "python",
   "nbconvert_exporter": "python",
   "pygments_lexer": "ipython3",
   "version": "3.8.11"
  }
 },
 "nbformat": 4,
 "nbformat_minor": 5
}
