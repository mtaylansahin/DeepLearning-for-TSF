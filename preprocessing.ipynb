{
 "cells": [
  {
   "cell_type": "code",
   "execution_count": 8,
   "id": "122df1af",
   "metadata": {},
   "outputs": [],
   "source": [
    "import numpy as np\n",
    "import pandas as pd"
   ]
  },
  {
   "cell_type": "code",
   "execution_count": 29,
   "id": "1e961995",
   "metadata": {},
   "outputs": [
    {
     "name": "stdout",
     "output_type": "stream",
     "text": [
      "[[10 15]\n",
      " [20 25]] [45]\n",
      "[[20 25]\n",
      " [30 35]] [65]\n",
      "[[30 35]\n",
      " [40 45]] [85]\n",
      "[[40 45]\n",
      " [50 55]] [105]\n",
      "[[50 55]\n",
      " [60 65]] [125]\n",
      "[[60 65]\n",
      " [70 75]] [145]\n",
      "[[70 75]\n",
      " [80 85]] [165]\n",
      "[[80 85]\n",
      " [90 95]] [185]\n"
     ]
    }
   ],
   "source": [
    "def sliding_window_preprocessing(sequences, history_window, horizon=1):\n",
    "    X, y = list(), list()\n",
    "    for i in range(len(sequences)):\n",
    "        # find the end of this pattern\n",
    "        end_ix = i + history_window\n",
    "        horizon_end_ix = end_ix + horizon - 1\n",
    "        # check if we are beyond the sequence\n",
    "        if horizon_end_ix > len(sequences):\n",
    "            break\n",
    "        # gather input and output parts of the pattern\n",
    "        seq_x, seq_y = sequences[i:end_ix, :-1], sequences[end_ix-1:horizon_end_ix, -1]\n",
    "        X.append(seq_x)\n",
    "        y.append(seq_y)\n",
    "    return np.array(X), np.array(y)\n",
    "\n",
    "arr = np.array([[ 10, 15, 25], [ 20, 25, 45], [ 30, 35, 65],\n",
    "                [ 40, 45, 85], [ 50, 55, 105], [ 60, 65, 125],\n",
    "                [ 70, 75, 145], [ 80, 85, 165], [ 90, 95, 185]])\n",
    "\n",
    "X, y = sliding_window_preprocessing(arr, 2)\n",
    "for i in range(len(X)):\n",
    "    print(X[i], y[i])"
   ]
  },
  {
   "cell_type": "code",
   "execution_count": 2,
   "id": "dc17ef7f",
   "metadata": {},
   "outputs": [],
   "source": [
    "def feature_scaling(sequence, method):\n",
    "    pass\n",
    "\n",
    "def reverse_scaling(sequence):\n",
    "    pass"
   ]
  },
  {
   "cell_type": "code",
   "execution_count": null,
   "id": "71088aad",
   "metadata": {},
   "outputs": [],
   "source": [
    "def sliding_window_with_breakdown(sequence, history_window, horizon, breakdown_indices):\n",
    "    pass"
   ]
  }
 ],
 "metadata": {
  "kernelspec": {
   "display_name": "Python 3",
   "language": "python",
   "name": "python3"
  },
  "language_info": {
   "codemirror_mode": {
    "name": "ipython",
    "version": 3
   },
   "file_extension": ".py",
   "mimetype": "text/x-python",
   "name": "python",
   "nbconvert_exporter": "python",
   "pygments_lexer": "ipython3",
   "version": "3.8.11"
  }
 },
 "nbformat": 4,
 "nbformat_minor": 5
}
