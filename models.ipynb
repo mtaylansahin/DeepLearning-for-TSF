{
 "cells": [
  {
   "cell_type": "code",
   "execution_count": 4,
   "id": "0ab72d53",
   "metadata": {},
   "outputs": [],
   "source": [
    "import tensorflow as tf\n",
    "from tensorflow.keras.layers import Dense, Dropout, LSTM, Input, Flatten, Conv1D, MaxPool1D"
   ]
  },
  {
   "cell_type": "code",
   "execution_count": 5,
   "id": "e36cafd6",
   "metadata": {},
   "outputs": [],
   "source": [
    "def mlp(input_shape,\n",
    "        horizon=1,\n",
    "        optimizer=\"adam\",\n",
    "        loss=\"mae\",\n",
    "        hidden_layers=[32, 16, 8],\n",
    "        dropout=0.0):\n",
    "    \n",
    "    # 2d input suitable for CNN and LSTM\n",
    "    inputs = Input(shape=(input_shape[-2], input_shape[-1]))\n",
    "    # Flatten 2d input into 1d\n",
    "    x = Flatten()(inputs)\n",
    "    # Add Dense + Dropout for every hidden layer\n",
    "    for hidden_units in hidden_layers:\n",
    "        x = Dense(hidden_units)(x)\n",
    "        x = Dropout(dropout)(x)\n",
    "    # Output layer to predict {horizon} time steps ahead\n",
    "    x = Dense(horizon)(x)\n",
    "\n",
    "    model = tf.keras.Model(inputs=inputs, outputs=x)\n",
    "    model.compile(optimizer=optimizer, loss=loss)\n",
    "\n",
    "    return model"
   ]
  },
  {
   "cell_type": "code",
   "execution_count": null,
   "id": "0e6b63f5",
   "metadata": {},
   "outputs": [],
   "source": [
    "def cnn(input_shape,\n",
    "        horizon=1,\n",
    "        optimizer=\"adam\",\n",
    "        loss=\"mae\",\n",
    "        conv_blocks=[[64, 7, 2], [128, 5, 2]]\n",
    "        dense_layers=[],\n",
    "        dense_dropout=0.0):\n",
    "    \n",
    "    conv_layers = [b[0] for b in conv_blocks]\n",
    "    kernels = [b[1] for b in conv_blocks]\n",
    "    pool_sizes = [b[2] for b in conv_blocks]\n",
    "    \n",
    "    inputs = Input(shape=(input_shape[-2], input_shape[-1]))\n",
    "    \n",
    "    x = Conv1D(conv_layers[0], kernels[0], activation=\"relu\", padding=\"same\")(inputs)\n",
    "    \n",
    "    if pool_sizes[0]:\n",
    "        x = MaxPool1D(pool_size=pool_sizes[0])(x)\n",
    "    \n",
    "    for chanels, kernel, pool_size in zip(conv_layers[1:], kernels[1:], pool_sizes[1:]):\n",
    "        x = Conv1D(chanels, kernel, activation=\"relu\", padding=\"same\")(x)\n",
    "        if pool_size:\n",
    "            x = MaxPool1D(pool_size=pool_size)(x)\n",
    "    # Dense block\n",
    "    x = Flatten()(x)\n",
    "    for hidden_units in dense_layers:\n",
    "        x = Dense(hidden_units)(x)\n",
    "        x = Dropout(dense_dropout)(x)\n",
    "    x = Dense(horizon)(x)\n",
    "\n",
    "    model = tf.keras.Model(inputs=inputs, outputs=x)\n",
    "    model.compile(optimizer=optimizer, loss=loss)\n",
    "    \n",
    "    return model"
   ]
  },
  {
   "cell_type": "code",
   "execution_count": 10,
   "id": "28a360ae",
   "metadata": {},
   "outputs": [],
   "source": [
    "def lstm(input_shape,\n",
    "        horizon=1,\n",
    "        optimizer=\"adam\",\n",
    "        loss=\"mae\",\n",
    "        lstm_layers=[50],\n",
    "        lstm_dropout=0.0,\n",
    "        return_sequences=False,\n",
    "        dense_layers=[],\n",
    "        dense_dropout=0.0):\n",
    "    \n",
    "    inputs = Input(shape=(input_shape[-2], input_shape[-1]))\n",
    "    \n",
    "    return_seq = return_sequences if len(lstm_layers) == 1 else True\n",
    "    x = LSTM(lstm_layers[0], return_sequences=return_seq, dropout=lstm_dropout)(inputs)\n",
    "    \n",
    "    for i, u in enumerate(lstm_layers[1:]):\n",
    "        return_seq = return_sequences if i == len(lstm_layers) - 2 else True\n",
    "        \n",
    "        x = LSTM(u, return_sequences=return_seq, dropout=lstm_dropout)(x)\n",
    "    \n",
    "    if return_sequences:\n",
    "        x = Flatten()(x)\n",
    "    \n",
    "    for units in dense_layers:\n",
    "        x = Dense(units)(x)\n",
    "        x = Dropout(dense_dropout)(x)\n",
    "    \n",
    "    x = Dense(horizon)(x)\n",
    "    \n",
    "    model = tf.keras.Model(inputs=inputs, outputs=x)\n",
    "    model.compile(optimizer=optimizer, loss=loss)\n",
    "    \n",
    "    return model"
   ]
  },
  {
   "cell_type": "code",
   "execution_count": 14,
   "id": "5e1490c0",
   "metadata": {},
   "outputs": [
    {
     "name": "stdout",
     "output_type": "stream",
     "text": [
      "Model: \"functional_7\"\n",
      "_________________________________________________________________\n",
      "Layer (type)                 Output Shape              Param #   \n",
      "=================================================================\n",
      "input_6 (InputLayer)         [(None, 3, 3)]            0         \n",
      "_________________________________________________________________\n",
      "lstm_9 (LSTM)                (None, 3, 50)             10800     \n",
      "_________________________________________________________________\n",
      "lstm_10 (LSTM)               (None, 3, 25)             7600      \n",
      "_________________________________________________________________\n",
      "lstm_11 (LSTM)               (None, 10)                1440      \n",
      "_________________________________________________________________\n",
      "dense_9 (Dense)              (None, 100)               1100      \n",
      "_________________________________________________________________\n",
      "dropout_6 (Dropout)          (None, 100)               0         \n",
      "_________________________________________________________________\n",
      "dense_10 (Dense)             (None, 25)                2525      \n",
      "_________________________________________________________________\n",
      "dropout_7 (Dropout)          (None, 25)                0         \n",
      "_________________________________________________________________\n",
      "dense_11 (Dense)             (None, 5)                 130       \n",
      "=================================================================\n",
      "Total params: 23,595\n",
      "Trainable params: 23,595\n",
      "Non-trainable params: 0\n",
      "_________________________________________________________________\n"
     ]
    }
   ],
   "source": [
    "model = lstm((10,3,3), lstm_layers=[50,25,10], horizon=5, lstm_dropout=0.2, dense_layers=[100, 25], dense_dropout=0.2)\n",
    "model.summary()"
   ]
  },
  {
   "cell_type": "code",
   "execution_count": null,
   "id": "e8467b27",
   "metadata": {},
   "outputs": [],
   "source": []
  }
 ],
 "metadata": {
  "kernelspec": {
   "display_name": "Python 3",
   "language": "python",
   "name": "python3"
  },
  "language_info": {
   "codemirror_mode": {
    "name": "ipython",
    "version": 3
   },
   "file_extension": ".py",
   "mimetype": "text/x-python",
   "name": "python",
   "nbconvert_exporter": "python",
   "pygments_lexer": "ipython3",
   "version": "3.8.11"
  }
 },
 "nbformat": 4,
 "nbformat_minor": 5
}
