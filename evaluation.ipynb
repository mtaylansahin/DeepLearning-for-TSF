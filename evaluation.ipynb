{
 "cells": [
  {
   "cell_type": "code",
   "execution_count": 1,
   "id": "ce3395ba",
   "metadata": {},
   "outputs": [],
   "source": [
    "import numpy as np\n",
    "from sklearn import metrics"
   ]
  },
  {
   "cell_type": "code",
   "execution_count": 9,
   "id": "be4727bf",
   "metadata": {},
   "outputs": [],
   "source": [
    "def mape(y_true, y_pred):\n",
    "    y_true, y_pred = np.array(y_true), np.array(y_pred)\n",
    "    return np.mean(np.abs((y_true - y_pred) / y_true)) * 100\n",
    "\n",
    "def mae(y_true, y_pred):\n",
    "    return metrics.mean_absolute_error(y_true, y_pred)\n",
    "\n",
    "def mse(y_true, y_pred):\n",
    "    return metrics.mean_squared_error(y_true, y_pred)\n",
    "\n",
    "def r2(y_true, y_pred):\n",
    "    return metrics.r2_score(y_true, y_pred)\n",
    "\n",
    "def rmse(y_true, y_pred):\n",
    "    return np.sqrt(metrics.mean_squared_error(y_true, y_pred))"
   ]
  },
  {
   "cell_type": "code",
   "execution_count": 10,
   "id": "0a0fff33",
   "metadata": {},
   "outputs": [],
   "source": [
    "METRICS = { \"mse\": mse,\n",
    "            \"rmse\": rmse,\n",
    "            \"mae\": mae,\n",
    "            \"mape\": mape,\n",
    "            \"r2\": r2 }\n",
    "\n",
    "def evaluate(actual, predicted, print_results=True, metrics=(\"mape\", \"mae\", \"mse\", \"r2\", \"rmse\")):\n",
    "    res = {}\n",
    "    for func in metrics:\n",
    "        value = METRICS[func](actual, predicted)\n",
    "        if print_results:\n",
    "            print(f\"{func}: {value}\")\n",
    "        res[func] = value\n",
    "    return res\n",
    "            "
   ]
  },
  {
   "cell_type": "code",
   "execution_count": 13,
   "id": "0d5f0509",
   "metadata": {},
   "outputs": [
    {
     "name": "stdout",
     "output_type": "stream",
     "text": [
      "mape: 61.11111111111111\n",
      "mae: 1.0\n",
      "mse: 1.0\n",
      "r2: -0.5\n",
      "rmse: 1.0\n"
     ]
    },
    {
     "data": {
      "text/plain": [
       "{'mape': 61.11111111111111, 'mae': 1.0, 'mse': 1.0, 'r2': -0.5, 'rmse': 1.0}"
      ]
     },
     "execution_count": 13,
     "metadata": {},
     "output_type": "execute_result"
    }
   ],
   "source": [
    "evaluate([1, 2, 3], [2,1,4])"
   ]
  },
  {
   "cell_type": "code",
   "execution_count": null,
   "id": "595d800f",
   "metadata": {},
   "outputs": [],
   "source": []
  }
 ],
 "metadata": {
  "kernelspec": {
   "display_name": "Python 3",
   "language": "python",
   "name": "python3"
  },
  "language_info": {
   "codemirror_mode": {
    "name": "ipython",
    "version": 3
   },
   "file_extension": ".py",
   "mimetype": "text/x-python",
   "name": "python",
   "nbconvert_exporter": "python",
   "pygments_lexer": "ipython3",
   "version": "3.8.11"
  }
 },
 "nbformat": 4,
 "nbformat_minor": 5
}
